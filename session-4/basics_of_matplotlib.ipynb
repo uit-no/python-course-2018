{
 "cells": [
  {
   "cell_type": "markdown",
   "metadata": {},
   "source": [
    "# Plotting with matplotlib"
   ]
  },
  {
   "cell_type": "code",
   "execution_count": null,
   "metadata": {
    "collapsed": true
   },
   "outputs": [],
   "source": [
    "import numpy as np\n",
    "import matplotlib.pyplot as plt\n",
    "%matplotlib inline"
   ]
  },
  {
   "cell_type": "code",
   "execution_count": null,
   "metadata": {
    "collapsed": true
   },
   "outputs": [],
   "source": [
    " Matplotlib can be used with different backends, which will make the plots appear differently in the Notebook\n",
    "\n",
    "%matplotlib --list\n",
    "\n",
    "#%matplotlib notebook\n",
    "\n",
    "%matplotlib inline\n",
    "\n",
    "​\n",
    "\n",
    "import numpy as np\n",
    "\n",
    "import matplotlib.pyplot as plt\n",
    "\n",
    "x = np.linspace(0,2*np.pi,100)\n",
    "\n",
    "y = np.sin(x)\n",
    "\n",
    "plt.plot(x,y, 'r-')\n",
    "\n",
    "plt.show()\n",
    "\n",
    "Widgets\n",
    "\n",
    "Widgets add more interactivity to Notebooks, allowing one to visualize and control changes in data, parameters etc.\n",
    "\n",
    "from ipywidgets import interact\n",
    "\n",
    "Use interact as a function\n",
    "\n",
    "def f(x, y, s):\n",
    "\n",
    "    return (x, y, s)\n",
    "\n",
    "​\n",
    "\n",
    "interact(f, x=True, y=1.0, s=\"Hello\");\n",
    "\n",
    "Use interact as a decorator\n",
    "\n",
    "@interact(x=True, y=1.0, s=\"Hello\")\n",
    "\n",
    "def g(x, y, s):\n",
    "\n",
    "    return (x, y, s)\n",
    "\n",
    "More interactive plotting using widgets\n",
    "\n",
    "from ipywidgets import interact # IPython.html.widgets before IPython 4.0\n",
    "\n",
    "​\n",
    "\n",
    "@interact\n",
    "\n",
    "def plot(n=(1,6)):\n",
    "\n",
    "    x = np.linspace(0,2*np.pi,100)\n",
    "\n",
    "    y = np.sin(n*x)\n",
    "\n",
    "    plt.plot(x,y, 'r-')\n",
    "\n",
    "    plt.show()\n",
    "\n",
    "Magics\n",
    "\n",
    "Magics are a simple command language which significantly extend the power of Jupyter\n",
    "\n",
    "Two kinds of magics:\n",
    "\n",
    "    Line magics: commands prepended by one % character and whose arguments only extend to the end of the current line.\n",
    "    Cell magics: use two percent characters as a marker (%%), receive as argument the whole cell"
   ]
  }
 ],
 "metadata": {
  "anaconda-cloud": {},
  "kernelspec": {
   "display_name": "Python 3",
   "language": "python",
   "name": "python3"
  },
  "language_info": {
   "codemirror_mode": {
    "name": "ipython",
    "version": 3
   },
   "file_extension": ".py",
   "mimetype": "text/x-python",
   "name": "python",
   "nbconvert_exporter": "python",
   "pygments_lexer": "ipython3",
   "version": "3.6.5"
  }
 },
 "nbformat": 4,
 "nbformat_minor": 1
}
