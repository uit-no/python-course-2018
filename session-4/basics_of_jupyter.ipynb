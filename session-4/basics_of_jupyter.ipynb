{
 "cells": [
  {
   "cell_type": "markdown",
   "metadata": {},
   "source": [
    "# Basics of Jupyter Notebooks"
   ]
  },
  {
   "cell_type": "markdown",
   "metadata": {},
   "source": [
    "## Some history\n",
    "- In 2014, Fernando Pérez announced a spin-off project from IPython called Project Jupyter, moving the notebook and other language-agnostic parts of IPython to Jupyter\n",
    "- The name \"Jupyter\" derives from Julia+Python+R, but today Jupyter kernels exist for [dozens of programming languages](https://github.com/jupyter/jupyter/wiki/Jupyter-kernels)\n",
    "- Galileo's publication in a pamphlet in 1610 in Sidereus Nuncius, one of the first notebooks!  \n",
    "<img src=\"http://media.gettyimages.com/photos/pages-from-sidereus-nuncius-magna-by-galileo-galilei-a-book-of-and-picture-id90732970\" width=\"500\">\n",
    "\n"
   ]
  },
  {
   "cell_type": "markdown",
   "metadata": {},
   "source": [
    "## Navigating Jupyter notebooks\n",
    " - Notebook Dashboard\n",
    "   * `Files` tab shows files in current directory\n",
    "   * `Running` tab shows kernels running on your computer\n",
    "   * `Clusters` tab lets you launch kernels for parallel computing\n",
    " - Fully-fledged terminal\n",
    " - Text editor for source code in many different languages  \n",
    " "
   ]
  },
  {
   "cell_type": "markdown",
   "metadata": {},
   "source": [
    "## Cells\n",
    "\n",
    "- **Markdown cells** contain formatted text written in Markdown \n",
    "- **Code cells** contain code to be interpreted by the *kernel* (Python, R, Julia, Octave/Matlab...)\n",
    "\n",
    "![Components](img/notebook_components.png)"
   ]
  },
  {
   "cell_type": "markdown",
   "metadata": {},
   "source": [
    "## Markdown cells\n",
    "\n",
    "This cell contains simple [markdown](https://daringfireball.net/projects/markdown/syntax), a simple language for writing text that can be automatically converted to other formats, e.g. HTML, LaTeX or any of a number of others.\n",
    "\n",
    "**Bold**, *italics*, **_combined_**, ~~strikethrough~~, `inline code`.\n",
    "\n",
    "* bullet points\n",
    "\n",
    "or\n",
    "\n",
    "1. numbered\n",
    "3. lists\n",
    "\n",
    "**Equations:**   \n",
    "inline $e^{i\\pi} + 1 = 0$\n",
    "or on new line  \n",
    "$$e^{i\\pi} + 1 = 0$$\n",
    "\n",
    "Images ![CodeRefinery Logo](https://pbs.twimg.com/profile_images/875283559052980224/tQLhMsZC_400x400.jpg)\n",
    "\n",
    "Links:  \n",
    "[One of many markdown cheat-sheets](https://github.com/adam-p/markdown-here/wiki/Markdown-Cheatsheet#emphasis)\n"
   ]
  },
  {
   "cell_type": "markdown",
   "metadata": {},
   "source": [
    "## Code cells"
   ]
  },
  {
   "cell_type": "code",
   "execution_count": null,
   "metadata": {},
   "outputs": [],
   "source": [
    "# a code cell can run statements of code.\n",
    "# when you run this cell, the output is sent \n",
    "# from the web page to a back-end process, run\n",
    "# and the results are displayed to you\n",
    "print(\"hello world!\")"
   ]
  },
  {
   "cell_type": "markdown",
   "metadata": {},
   "source": [
    "## Basic commands"
   ]
  },
  {
   "cell_type": "markdown",
   "metadata": {},
   "source": [
    "* You can edit the cell by double-clicking on it, or pressing `Enter` when it's selected\n",
    "* You can run the cell by pressing the play-button in the toolbar, or press `Shift-Enter`\n",
    "* You can change the type of the cell from the toolbar, or press `m` for Markdown and `y` for code\n",
    "* NB: the order in which the cells are evaluated matters!"
   ]
  },
  {
   "cell_type": "markdown",
   "metadata": {},
   "source": [
    "### Shell commands\n",
    "  - You can run shell commands by prepending with !\n",
    "    - NB: on Windows, some of the shell commands might not work.\n",
    "  - Useful, e.g., for managing the python environment\n",
    "  - Remember to make sure your cell command doesn't require interaction"
   ]
  },
  {
   "cell_type": "code",
   "execution_count": null,
   "metadata": {},
   "outputs": [],
   "source": [
    "!echo \"hello\""
   ]
  },
  {
   "cell_type": "code",
   "execution_count": null,
   "metadata": {},
   "outputs": [],
   "source": [
    "!conda list"
   ]
  },
  {
   "cell_type": "markdown",
   "metadata": {},
   "source": [
    " - Many common linux shell commands are available as magics: %ls, %pwd, %mkdir, %cp, %mv, %cd, *etc.*"
   ]
  },
  {
   "cell_type": "markdown",
   "metadata": {},
   "source": [
    "## Magics"
   ]
  },
  {
   "cell_type": "markdown",
   "metadata": {},
   "source": [
    "Magics are a simple command language which significantly extend the power of Jupyter "
   ]
  },
  {
   "cell_type": "markdown",
   "metadata": {},
   "source": [
    "Two kinds of magics:\n",
    "\n",
    "  - **Line magics**: commands prepended by one % character and whose arguments only extend to the end of the current line.\n",
    "  - **Cell magics**: use two percent characters as a marker (%%), receive as argument the whole cell (must be used as the first line in a cell)"
   ]
  },
  {
   "cell_type": "markdown",
   "metadata": {},
   "source": [
    "Other features:\n",
    "  - Use `%lsmagic` magic to list all available line and cell magics\n",
    "  - Question mark shows help: `%lsmagic?`\n",
    "  - `%quickref` gives a short reference of available magic (and other) functionality "
   ]
  },
  {
   "cell_type": "code",
   "execution_count": null,
   "metadata": {},
   "outputs": [],
   "source": [
    "%lsmagic"
   ]
  },
  {
   "cell_type": "code",
   "execution_count": null,
   "metadata": {},
   "outputs": [],
   "source": [
    "%ls"
   ]
  },
  {
   "cell_type": "markdown",
   "metadata": {},
   "source": [
    "### %%writefile\n",
    "Writes the cell contents as a named file"
   ]
  },
  {
   "cell_type": "code",
   "execution_count": null,
   "metadata": {},
   "outputs": [],
   "source": [
    "%%writefile foo.py\n",
    "print('Hello world')"
   ]
  },
  {
   "cell_type": "markdown",
   "metadata": {},
   "source": [
    "### %run \n",
    " - Executes python code from .py files \n",
    " - Can also execute other jupyter notebooks"
   ]
  },
  {
   "cell_type": "code",
   "execution_count": null,
   "metadata": {},
   "outputs": [],
   "source": [
    "%run foo.py"
   ]
  },
  {
   "cell_type": "markdown",
   "metadata": {},
   "source": [
    "### %load\n",
    " - Loads code directly into cell. File either from local disk or from the internet\n",
    " - After uncommenting the code below and executing, it will replace the content of cell with contents of file."
   ]
  },
  {
   "cell_type": "code",
   "execution_count": null,
   "metadata": {},
   "outputs": [],
   "source": [
    "# %load foo.py"
   ]
  },
  {
   "cell_type": "markdown",
   "metadata": {},
   "source": [
    "### Different types of media"
   ]
  },
  {
   "cell_type": "code",
   "execution_count": null,
   "metadata": {},
   "outputs": [],
   "source": [
    "import IPython.display\n",
    "IPython.display.Audio?"
   ]
  },
  {
   "cell_type": "code",
   "execution_count": null,
   "metadata": {},
   "outputs": [],
   "source": [
    "from IPython.display import YouTubeVideo\n",
    "YouTubeVideo('j9YpkSX7NNM')"
   ]
  },
  {
   "cell_type": "code",
   "execution_count": null,
   "metadata": {},
   "outputs": [],
   "source": [
    "from IPython.display import Audio\n",
    "framerate = 44100\n",
    "t = np.linspace(0,5,framerate*5)\n",
    "data = np.sin(2*np.pi*220*t) + np.sin(2*np.pi*224*t)\n",
    "Audio(data,rate=framerate)\n",
    "\n",
    "#Audio(url=\"http://www.w3schools.com/html/horse.ogg\")"
   ]
  },
  {
   "cell_type": "code",
   "execution_count": null,
   "metadata": {},
   "outputs": [],
   "source": [
    "from IPython.display import IFrame\n",
    "IFrame(\"http://jupyter.org\",width='100%',height=350)"
   ]
  },
  {
   "cell_type": "markdown",
   "metadata": {},
   "source": [
    "### Mixing in other languages (assuming that they're installed)"
   ]
  },
  {
   "cell_type": "markdown",
   "metadata": {},
   "source": [
    "The `%%script` magic is like the #! (shebang) line of a Unix script,\n",
    "specifying a program (bash, perl, ruby, etc.) with which to run.  \n",
    "But one can also directly use these:\n",
    "- %%ruby\n",
    "- %%perl\n",
    "- %%bash\n",
    "- %%html\n",
    "- %%latex\n",
    "- %%R"
   ]
  },
  {
   "cell_type": "markdown",
   "metadata": {},
   "source": [
    "Why would you want to mix programming languages in the same notebook?\n",
    " - leverage strengths from different languages\n",
    " - using code from colleagues\n",
    " - a fantastic library exists in another language than your favorite one"
   ]
  },
  {
   "cell_type": "code",
   "execution_count": null,
   "metadata": {},
   "outputs": [],
   "source": [
    "%%ruby\n",
    "puts 'Hi, this is ruby.'"
   ]
  },
  {
   "cell_type": "code",
   "execution_count": null,
   "metadata": {},
   "outputs": [],
   "source": [
    "%%script ruby\n",
    "puts 'Hi, this is also ruby.'"
   ]
  },
  {
   "cell_type": "code",
   "execution_count": null,
   "metadata": {},
   "outputs": [],
   "source": [
    "%%perl\n",
    "print \"Hello, this is perl\\n\";"
   ]
  },
  {
   "cell_type": "code",
   "execution_count": null,
   "metadata": {},
   "outputs": [],
   "source": [
    "%%bash\n",
    "echo \"Hullo, I'm bash\""
   ]
  },
  {
   "cell_type": "code",
   "execution_count": null,
   "metadata": {},
   "outputs": [],
   "source": [
    "%%html\n",
    "<table>\n",
    "<tr>\n",
    "<th>Header 1</th>\n",
    "<th>Header 2</th>\n",
    "</tr>\n",
    "<tr>\n",
    "<td>row 1, cell 1</td>\n",
    "<td>row 1, cell 2</td>\n",
    "</tr>\n",
    "<tr>\n",
    "<td>row 2, cell 1</td>\n",
    "<td>row 2, cell 2</td>\n",
    "</tr>\n",
    "</table>"
   ]
  },
  {
   "cell_type": "code",
   "execution_count": null,
   "metadata": {},
   "outputs": [],
   "source": [
    "%%latex\n",
    "\\begin{align}\n",
    "\\nabla \\times \\vec{\\mathbf{B}} -\\, \\frac1c\\, \\frac{\\partial\\vec{\\mathbf{E}}}{\\partial t} & = \\frac{4\\pi}{c}\\vec{\\mathbf{j}} \\\\\n",
    "\\nabla \\cdot \\vec{\\mathbf{E}} & = 4 \\pi \\rho \\\\\n",
    "\\nabla \\times \\vec{\\mathbf{E}}\\, +\\, \\frac1c\\, \\frac{\\partial\\vec{\\mathbf{B}}}{\\partial t} & = \\vec{\\mathbf{0}} \\\\\n",
    "\\nabla \\cdot \\vec{\\mathbf{B}} & = 0\n",
    "\\end{align}"
   ]
  },
  {
   "cell_type": "markdown",
   "metadata": {},
   "source": [
    "# Summing up"
   ]
  },
  {
   "cell_type": "markdown",
   "metadata": {},
   "source": [
    "## Key features of Jupyter Notebooks\n",
    "- Excels at [literate programming](https://en.wikipedia.org/wiki/Literate_programming)\n",
    "- Many features of integrated development environment (IDE): code completion, easy access to help\n",
    "- [Support for many programming languages](https://github.com/jupyter/jupyter/wiki/Jupyter-kernels)"
   ]
  },
  {
   "cell_type": "markdown",
   "metadata": {},
   "source": [
    "## Use cases\n",
    "- Experimenting with new ideas, testing new libraries/databases \n",
    "- Interactive code, data analysis and visualization development\n",
    "- Sharing and explaining code to colleagues\n",
    "- Learning from other notebooks\n",
    "- Keeping track of interactive sessions, like a digital lab notebook\n",
    "- Supplementary information with published articles\n",
    "- Teaching (programming, experimental/theoretical science)\n",
    "- Presentations"
   ]
  },
  {
   "cell_type": "markdown",
   "metadata": {},
   "source": [
    "## When not to use notebooks?\n",
    "\n",
    "- Large codebases are difficult to manage in notebooks\n",
    "- More difficult to follow good software development practices\n",
    "    - doesn't play well with version control (see below)\n",
    "    - not as easy to do automated testing\n",
    "    - not as useful as IDE to ensure PEP8-compliance"
   ]
  },
  {
   "cell_type": "markdown",
   "metadata": {},
   "source": [
    "## Sharing notebooks\n",
    "\n",
    "- You can enter a URL, GitHub repo or username, or GIST ID in [`nbviewer`](https://nbviewer.jupyter.org/) and view a rendered Jupyter notebook\n",
    "- Read the Docs can render Jupyter Notebooks via the [nbsphinx package](https://nbsphinx.readthedocs.io/)\n",
    "- [Binder](https://mybinder.org/) creates live notebooks based on a GitHub repository\n",
    "- [CoCalc](https://cocalc.com/) (formerly SageMathCloud) allows collaborative editing of notebooks in the cloud \n",
    "- Google's [colaboratory](https://colab.research.google.com/) lets you work on notebooks in the cloud, and you can [read and write to notebook files on Drive](https://colab.research.google.com/notebooks/io.ipynb)\n",
    "- [Microsoft Azure Notebooks](https://notebooks.azure.com/) also offers free notebooks in the cloud\n",
    "- [JupyterLab](https://github.com/jupyterlab/jupyterlab) supports sharing and collaborative editing of notebooks via Google Drive \n",
    "- [Notedown](https://github.com/aaren/notedown), [Jupinx](https://github.com/QuantEcon/sphinxcontrib-jupyter) and [DocOnce](https://github.com/hplgit/doconce) can take Markdown or Sphinx files and generate Jupyter Notebooks\n",
    "- The `jupyter nbconvert` tool can convert a (`.ipynb`) notebook file to:\n",
    "    - python code (`.py` file) \n",
    "    - an HTML file\n",
    "    - a LaTeX file\n",
    "    - a PDF file\n",
    "    - a slide-show in the browser\n",
    "\n",
    "Note: the Google, Microsoft and CoCalc platforms are free but have paid subscriptions for faster access to cloud resources"
   ]
  },
  {
   "cell_type": "markdown",
   "metadata": {},
   "source": [
    "## [JupyterHub](https://github.com/jupyterhub)\n",
    "\n",
    "- A multi-user hub to spawn, manage and proxy multiple instances of the Jupyter Notebook server\n",
    "- Purpose: supporting multiple users, who can log in and start notebooks\n",
    "- Used by: student classes, corporate data science workgroup, scientific research group, high-performance computing group"
   ]
  },
  {
   "cell_type": "markdown",
   "metadata": {},
   "source": [
    "## [JupyterLab](https://github.com/jupyterlab/jupyterlab)\n",
    "\n",
    "- Natural evolution of the Jupyter Notebook user interface\n",
    "- An \"IDE\": *Interactive* Development Environment\n",
    "- Flexible user interface for assembling the building blocks of interactive computing\n",
    "- Adaptable to multiple workflows. Switch between Notebook/narrative focus and script/console focus\n",
    "- A stable version suitable for general usage was released in Feb. 2018"
   ]
  },
  {
   "cell_type": "markdown",
   "metadata": {},
   "source": [
    "![jupyterlab](img/jlab-screenshot-nb-con-term-2_40.png)"
   ]
  },
  {
   "cell_type": "markdown",
   "metadata": {},
   "source": [
    "## Version control of notebooks\n",
    "Jupyter Notebooks are stored in json format, which is easy to parse but basic diff and merge tools do not handle it well.  \n",
    "This reduces the power of version control systems like Git. Tools like [nbdime](http://nbdime.readthedocs.io/en/latest/) provide \"content-aware\" diffing and merging"
   ]
  },
  {
   "cell_type": "markdown",
   "metadata": {},
   "source": [
    "## Links and further reading\n",
    " - https://github.com/jupyter/jupyter/wiki/A-gallery-of-interesting-Jupyter-Notebooks\n",
    " - http://ipython-books.github.io/minibook/\n",
    " - http://ipython-books.github.io/cookbook/\n",
    " - https://www.oreilly.com/ideas/the-state-of-jupyter"
   ]
  }
 ],
 "metadata": {
  "anaconda-cloud": {},
  "kernelspec": {
   "display_name": "Python 3",
   "language": "python",
   "name": "python3"
  },
  "language_info": {
   "codemirror_mode": {
    "name": "ipython",
    "version": 3
   },
   "file_extension": ".py",
   "mimetype": "text/x-python",
   "name": "python",
   "nbconvert_exporter": "python",
   "pygments_lexer": "ipython3",
   "version": "3.6.5"
  },
  "widgets": {
   "state": {
    "629d3a72e0e241ba91f8932c1f7481b1": {
     "views": [
      {
       "cell_index": 80
      }
     ]
    }
   },
   "version": "1.2.0"
  }
 },
 "nbformat": 4,
 "nbformat_minor": 2
}
