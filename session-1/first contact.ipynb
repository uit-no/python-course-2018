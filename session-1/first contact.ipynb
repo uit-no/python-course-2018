{
 "cells": [
  {
   "cell_type": "markdown",
   "metadata": {
    "slideshow": {
     "slide_type": "-"
    }
   },
   "source": [
    "# Programming with Python\n",
    "\n",
    "*Programming*: the act of instructing computers to perform tasks (Wikipedia)\n",
    "\n",
    "*Python*: a programming language, i.e. a formal language specifying means and rules for programming a computer\n",
    "\n",
    "### quick note about this document\n",
    "\n",
    "This jupyter notebook is one of the course teachers' notes and cheat sheet. The actual lesson in class uses this as its basis, but it will never appear on a screen there. Instead, everything happens live in an interactive terminal."
   ]
  },
  {
   "cell_type": "markdown",
   "metadata": {},
   "source": [
    "## So, programming...\n",
    "\n",
    "You've probably already done it to some extent. If you have ever used a unix terminal console and written things like\n",
    "\n",
    "```sh\n",
    "ls\n",
    "cd myproject\n",
    "echo \"when it's done\" > deadline.txt\n",
    "```\n",
    "\n",
    "(maybe not the third line), then you are already familiar with some computer programming, according to the definition above! In this case, you have programmed with the \"unix shell\" language. You have used the interactive prompt to issue commands, one at a time. You could also have written a sequence of commands in a file, and then run that all at once. That would have been called a \"shell script\", and they are everywhere. Et voila, programming. You've already been there. Let's learn more about it."
   ]
  },
  {
   "cell_type": "markdown",
   "metadata": {},
   "source": [
    "## So, Python...\n",
    "\n",
    "Python is a very popular programming language in the science community, and you're here to learn it. A very good way to learn it is to try things out in the interactive Python interpreter, which acts in some ways like the unix shell you already know. You write a line of code, press enter, and the interactive interpreter runs the code immediately.\n",
    "\n",
    "(Note: this concept is called REPL - \"read, evaluate, print loop\", and it's quite popular in programming, especially for prototyping and doodling)\n",
    "\n",
    "Start the interactive interpreter in a unix shell like so:\n",
    "\n",
    "```\n",
    "ipython\n",
    "```\n",
    "\n",
    "and then you can talk python to the computer."
   ]
  },
  {
   "cell_type": "markdown",
   "metadata": {},
   "source": [
    "## Hello world! print(), calling stuff"
   ]
  },
  {
   "cell_type": "code",
   "execution_count": 1,
   "metadata": {},
   "outputs": [
    {
     "name": "stdout",
     "output_type": "stream",
     "text": [
      "Hello, world!\n"
     ]
    }
   ],
   "source": [
    "print(\"Hello, world!\")"
   ]
  },
  {
   "cell_type": "code",
   "execution_count": null,
   "metadata": {},
   "outputs": [],
   "source": []
  }
 ],
 "metadata": {
  "kernelspec": {
   "display_name": "Python 3",
   "language": "python",
   "name": "python3"
  },
  "language_info": {
   "codemirror_mode": {
    "name": "ipython",
    "version": 3
   },
   "file_extension": ".py",
   "mimetype": "text/x-python",
   "name": "python",
   "nbconvert_exporter": "python",
   "pygments_lexer": "ipython3",
   "version": "3.6.5"
  }
 },
 "nbformat": 4,
 "nbformat_minor": 2
}
