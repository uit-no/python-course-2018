{
 "cells": [
  {
   "cell_type": "markdown",
   "metadata": {
    "slideshow": {
     "slide_type": "-"
    }
   },
   "source": [
    "# Programming with Python\n",
    "\n",
    "*Programming*: the act of instructing computers to perform tasks (Wikipedia)\n",
    "\n",
    "*Python*: a programming language, i.e. a formal language specifying means and rules for programming a computer\n",
    "\n",
    "### quick note about this document\n",
    "\n",
    "This jupyter notebook is one of the course teachers' notes and cheat sheet. The actual lesson in class uses this as its basis, but it will never appear on a screen there. Instead, everything happens live in an interactive terminal."
   ]
  },
  {
   "cell_type": "markdown",
   "metadata": {},
   "source": [
    "## Programming...\n",
    "\n",
    "You've probably already done it to some extent. If you have ever used a unix terminal console and written things like\n",
    "\n",
    "```sh\n",
    "ls\n",
    "cd myproject\n",
    "echo \"when it's done\" > deadline.txt\n",
    "```\n",
    "\n",
    "(maybe not the third line), then you are already familiar with some computer programming, according to the definition above! In this case, you have programmed with the \"unix shell\" language. You have used the interactive prompt to issue commands, one at a time. You could also have written a sequence of commands in a file, and then run that all at once. That would have been called a \"shell script\", and they are very common. Et voila, programming. You've already been there."
   ]
  },
  {
   "cell_type": "markdown",
   "metadata": {},
   "source": [
    "## Programming languages\n",
    "\n",
    "Programming languages must be understood by both humans and computers. Humans must be able to both read and write them, while computers often just have to be able to read them.\n",
    "\n",
    "Like natural \"spoken\" languages, programming languages have grammar and syntax and vocabulary. So there are words that mean something and there are rules how you can combine them in order to express something. But unlike natural languages, programming languages don't have things like \"subjects\" and \"verbs\" and \"objects\", but other things, for example \"statemens\" and \"expressions\" and \"functions\". They are quite different to spoken languages.\n",
    "\n",
    "Yet, the established way we tell a computer what to do is (currently still) programming languages. Especially when we're talking about complex things. One day we might be able to convey complex programs to a computer with natural language, but we aren't there yet. So if you want to program today, you have to learn a programming language.\n"
   ]
  },
  {
   "cell_type": "markdown",
   "metadata": {},
   "source": [
    "## Python\n",
    "\n",
    "Python is a very popular programming language in the science community, and you're here to learn it. A very good way to learn it is to try things out in the interactive Python interpreter, which acts in some ways like the unix shell you already know. You write a line of code, press enter, and the interactive interpreter runs the code immediately.\n",
    "\n",
    "(Note: this concept is called REPL - \"read, evaluate, print loop\", and it's become very popular in programming. It's immensely useful for doodling and learning)\n",
    "\n",
    "Start the interactive interpreter in a unix shell like so:\n",
    "\n",
    "```\n",
    "ipython\n",
    "```\n",
    "\n",
    "and then you can talk python to the computer."
   ]
  },
  {
   "cell_type": "markdown",
   "metadata": {},
   "source": [
    "## First steps in the REPL"
   ]
  },
  {
   "cell_type": "markdown",
   "metadata": {},
   "source": [
    "### Simple statements: arithmetic expressions"
   ]
  },
  {
   "cell_type": "code",
   "execution_count": 1,
   "metadata": {},
   "outputs": [
    {
     "data": {
      "text/plain": [
       "1"
      ]
     },
     "execution_count": 1,
     "metadata": {},
     "output_type": "execute_result"
    }
   ],
   "source": [
    "1"
   ]
  },
  {
   "cell_type": "markdown",
   "metadata": {},
   "source": [
    "Whenever I write something (let's call it a \"statement\") in the REPL and press enter, then the REPL will print whatever is the result of what I wrote (if there is any). The result of just writing 1 is 1, and this may seem a little weird at first. But look at this:"
   ]
  },
  {
   "cell_type": "code",
   "execution_count": 2,
   "metadata": {},
   "outputs": [
    {
     "data": {
      "text/plain": [
       "2"
      ]
     },
     "execution_count": 2,
     "metadata": {},
     "output_type": "execute_result"
    }
   ],
   "source": [
    "1 + 1"
   ]
  },
  {
   "cell_type": "markdown",
   "metadata": {},
   "source": [
    "This hopefully begins to makes more sense, intuitively. The REPL **r**eads the statement \"1 + 1\", **e**valuates it (to 2 obviously), and **p**rints the result, 2.\n",
    "\n",
    "Before, in the first line, the REPL read the statement \"1\", evaluated it to 1 (nothing more to evaluate beyond that), and printed the result, 1."
   ]
  },
  {
   "cell_type": "markdown",
   "metadata": {},
   "source": [
    "Python code consists of such (and other) statements. So \"1 + 1\" is a-okay Python code. It's a statement that can be evaluated. It even has a result, \"2\". A statement with a result is called an expression. Don't worry, you don't need to accurately remember these terms right now, but I'll use them because these are the correct terms. You'll quickly get used to them.\n",
    "\n",
    "I can write all sorts of statements into the REPL. Easy examples to start with are arithmetic expressions, which work out pretty much like you would expect from intuition:"
   ]
  },
  {
   "cell_type": "code",
   "execution_count": 3,
   "metadata": {},
   "outputs": [
    {
     "data": {
      "text/plain": [
       "8"
      ]
     },
     "execution_count": 3,
     "metadata": {},
     "output_type": "execute_result"
    }
   ],
   "source": [
    "2 * 4"
   ]
  },
  {
   "cell_type": "code",
   "execution_count": 4,
   "metadata": {},
   "outputs": [
    {
     "data": {
      "text/plain": [
       "9"
      ]
     },
     "execution_count": 4,
     "metadata": {},
     "output_type": "execute_result"
    }
   ],
   "source": [
    "2 * 4 + 1"
   ]
  },
  {
   "cell_type": "code",
   "execution_count": 5,
   "metadata": {},
   "outputs": [
    {
     "data": {
      "text/plain": [
       "10"
      ]
     },
     "execution_count": 5,
     "metadata": {},
     "output_type": "execute_result"
    }
   ],
   "source": [
    "2 * (4 + 1)"
   ]
  },
  {
   "cell_type": "code",
   "execution_count": 6,
   "metadata": {},
   "outputs": [
    {
     "data": {
      "text/plain": [
       "-2"
      ]
     },
     "execution_count": 6,
     "metadata": {},
     "output_type": "execute_result"
    }
   ],
   "source": [
    "-2"
   ]
  },
  {
   "cell_type": "code",
   "execution_count": 7,
   "metadata": {},
   "outputs": [
    {
     "data": {
      "text/plain": [
       "5.0"
      ]
     },
     "execution_count": 7,
     "metadata": {},
     "output_type": "execute_result"
    }
   ],
   "source": [
    "10 / 2"
   ]
  },
  {
   "cell_type": "code",
   "execution_count": 8,
   "metadata": {},
   "outputs": [
    {
     "data": {
      "text/plain": [
       "3.3333333333333335"
      ]
     },
     "execution_count": 8,
     "metadata": {},
     "output_type": "execute_result"
    }
   ],
   "source": [
    "10 / 3"
   ]
  },
  {
   "cell_type": "code",
   "execution_count": 9,
   "metadata": {},
   "outputs": [
    {
     "data": {
      "text/plain": [
       "4.0"
      ]
     },
     "execution_count": 9,
     "metadata": {},
     "output_type": "execute_result"
    }
   ],
   "source": [
    "10 / 2.5"
   ]
  },
  {
   "cell_type": "markdown",
   "metadata": {},
   "source": [
    "OK, let's look at these expressions and understand intellectually what they are in the eyes of a computer.\n",
    "\n",
    "\"1\" is a trivial expression that evaluates to \"1\".\n",
    "\"1+1\" is a not that trivial an expression, but it's not hard to understand what it is: it is a combination of more expressions. There are two \"1\"s (easy), and there's a \"+\". The Python language defines \"+\" with something to the left and the right of it as an expression that can be evaluated to a result. Python evaluates that, if the stuff left and right is numbers, to the sum of these numbers. As you'd expect from your intuition.\n",
    "\n",
    "The takeaway for now is that you can combine expressions! The result of one expression can be used in another expression."
   ]
  },
  {
   "cell_type": "code",
   "execution_count": 10,
   "metadata": {},
   "outputs": [
    {
     "data": {
      "text/plain": [
       "4"
      ]
     },
     "execution_count": 10,
     "metadata": {},
     "output_type": "execute_result"
    }
   ],
   "source": [
    "4 * 1"
   ]
  },
  {
   "cell_type": "code",
   "execution_count": 11,
   "metadata": {},
   "outputs": [
    {
     "data": {
      "text/plain": [
       "8"
      ]
     },
     "execution_count": 11,
     "metadata": {},
     "output_type": "execute_result"
    }
   ],
   "source": [
    "4 * (1 + 1)"
   ]
  },
  {
   "cell_type": "markdown",
   "metadata": {},
   "source": [
    "Now we can use the interactive python interpreter like a basic calculator :)"
   ]
  },
  {
   "cell_type": "markdown",
   "metadata": {},
   "source": [
    "### Variables"
   ]
  },
  {
   "cell_type": "markdown",
   "metadata": {},
   "source": [
    "We can remember the result of an expression for later by storing it in the computer's memory, into a so-called *variable*. Don't confuse the term with the mathematical term \"variable\" you're probably familiar with. In the context of programming, variable just means \"name that I use to refer to something that I've stored in the computer's memory\"."
   ]
  },
  {
   "cell_type": "code",
   "execution_count": 12,
   "metadata": {},
   "outputs": [],
   "source": [
    "a = 1"
   ]
  },
  {
   "cell_type": "markdown",
   "metadata": {},
   "source": [
    "That's it, now I can use 'a' in statements, and it currently has the value 1.\n",
    "\n",
    "By the way, notice that the REPL didn't print anything back now. That is because the statement \"a = 1\" does not have a result (by the language's definition). It's a-okay Python code, it's just a statement that doesn't have a result.\n",
    "\n",
    "A statement of this form, `<name> = <some expression>` is called an *assignment*.\n",
    "\n",
    "Back to a. Let's use a!"
   ]
  },
  {
   "cell_type": "code",
   "execution_count": 13,
   "metadata": {},
   "outputs": [
    {
     "data": {
      "text/plain": [
       "1"
      ]
     },
     "execution_count": 13,
     "metadata": {},
     "output_type": "execute_result"
    }
   ],
   "source": [
    "a"
   ]
  },
  {
   "cell_type": "markdown",
   "metadata": {},
   "source": [
    "That was easy. Or at least trivial. This was just the REPL evaluating my statement \"a\", which it identified as the name of a variable, which it evaluated to its current value, 1, which becomes the result of the statement because there's nothing more to evaluate."
   ]
  },
  {
   "cell_type": "code",
   "execution_count": 14,
   "metadata": {},
   "outputs": [
    {
     "data": {
      "text/plain": [
       "2"
      ]
     },
     "execution_count": 14,
     "metadata": {},
     "output_type": "execute_result"
    }
   ],
   "source": [
    "a + 1"
   ]
  },
  {
   "cell_type": "markdown",
   "metadata": {},
   "source": [
    "Here I combined the first expression with another expression, using the \"+\" operator. Python dutifully evaluates that stuff to the best of its ability, coming up with the result, 2."
   ]
  },
  {
   "cell_type": "code",
   "execution_count": 15,
   "metadata": {},
   "outputs": [],
   "source": [
    "b = a"
   ]
  },
  {
   "cell_type": "markdown",
   "metadata": {},
   "source": [
    "And here I assign all of that to `b`. What is b's value now?"
   ]
  },
  {
   "cell_type": "code",
   "execution_count": 16,
   "metadata": {},
   "outputs": [
    {
     "data": {
      "text/plain": [
       "1"
      ]
     },
     "execution_count": 16,
     "metadata": {},
     "output_type": "execute_result"
    }
   ],
   "source": [
    "b"
   ]
  },
  {
   "cell_type": "markdown",
   "metadata": {},
   "source": [
    "It's 1. Sure it is."
   ]
  },
  {
   "cell_type": "code",
   "execution_count": 17,
   "metadata": {},
   "outputs": [],
   "source": [
    "a = 2"
   ]
  },
  {
   "cell_type": "markdown",
   "metadata": {},
   "source": [
    "And now? Is it still 1? Or is it 2 now?"
   ]
  },
  {
   "cell_type": "code",
   "execution_count": 18,
   "metadata": {},
   "outputs": [
    {
     "data": {
      "text/plain": [
       "1"
      ]
     },
     "execution_count": 18,
     "metadata": {},
     "output_type": "execute_result"
    }
   ],
   "source": [
    "b"
   ]
  },
  {
   "cell_type": "markdown",
   "metadata": {},
   "source": [
    "Still 1! Why? Didn't we define `b` to be equal to `a`?\n",
    "\n",
    "Answer: we did not define `b` to be equal to `a`. It might look a bit like that if we read Python assignments like mathematical equations, but they are not the same thing at all.\n",
    "\n",
    "What we actually did was that we *assigned* to the variable named `b` the result of the expression `a`. The result of that expression was 1 at the time we asked the python interpreter to evaluate it. That result became the value of b. b knows nothing about how the result was obtained. Python does not keep track of assignments and expressions and re-evaluates them \"when necessary\". Python just executes one statement after another and that's it.\n",
    "\n",
    "So don't think of the `=` sign like you think of it in a mathematical context. Rather, translate it in your head to \"is assigned to the result of the expression ... right now\". So read `b = a` as \"`b` is assigned to the result of the expression `a` (which is 1) right now\".\n",
    "\n",
    "This is quite different behavior than, say, an Excel spreadsheet, which you might be familiar with. This is very normal behavior for a programming language, though. Most behave like this, Python included."
   ]
  },
  {
   "cell_type": "markdown",
   "metadata": {},
   "source": [
    "Now our basic calculator can remember values. Let's move on to functions!"
   ]
  },
  {
   "cell_type": "markdown",
   "metadata": {},
   "source": [
    "### Calling functions"
   ]
  },
  {
   "cell_type": "code",
   "execution_count": 19,
   "metadata": {},
   "outputs": [
    {
     "data": {
      "text/plain": [
       "1"
      ]
     },
     "execution_count": 19,
     "metadata": {},
     "output_type": "execute_result"
    }
   ],
   "source": [
    "abs(-1)"
   ]
  },
  {
   "cell_type": "markdown",
   "metadata": {},
   "source": [
    "We called the function named \"abs\" here. \"abs\" takes an argument, -1 here, and *returns* the absolute value of the argument. \"Return\" means that the function at some point says \"my value for the given argument is this!\". So when the python interpreter evaluates the statement with the function call (\"abs(-1)\"), it replaces the whole thing with that value. Which means the whole thing evaluates to that value.\n",
    "\n",
    "Overall, we're looking at an expression here, because abs(-1) has a result. And guess what goes into the function, language-wise... a value. Which can be the result of an expression! Check these things out:"
   ]
  },
  {
   "cell_type": "code",
   "execution_count": 20,
   "metadata": {},
   "outputs": [
    {
     "data": {
      "text/plain": [
       "1"
      ]
     },
     "execution_count": 20,
     "metadata": {},
     "output_type": "execute_result"
    }
   ],
   "source": [
    "abs(1 - 2)"
   ]
  },
  {
   "cell_type": "code",
   "execution_count": 21,
   "metadata": {},
   "outputs": [],
   "source": [
    "a = 5"
   ]
  },
  {
   "cell_type": "code",
   "execution_count": 22,
   "metadata": {},
   "outputs": [
    {
     "data": {
      "text/plain": [
       "5"
      ]
     },
     "execution_count": 22,
     "metadata": {},
     "output_type": "execute_result"
    }
   ],
   "source": [
    "abs(a)"
   ]
  },
  {
   "cell_type": "code",
   "execution_count": 23,
   "metadata": {},
   "outputs": [],
   "source": [
    "b = abs(1-a)"
   ]
  },
  {
   "cell_type": "code",
   "execution_count": 24,
   "metadata": {},
   "outputs": [
    {
     "data": {
      "text/plain": [
       "4"
      ]
     },
     "execution_count": 24,
     "metadata": {},
     "output_type": "execute_result"
    }
   ],
   "source": [
    "b"
   ]
  },
  {
   "cell_type": "markdown",
   "metadata": {},
   "source": [
    "Just expressions and function calls."
   ]
  },
  {
   "cell_type": "markdown",
   "metadata": {},
   "source": [
    "Functions can have more than one argument. They are separated by comma. For example:"
   ]
  },
  {
   "cell_type": "code",
   "execution_count": 25,
   "metadata": {},
   "outputs": [
    {
     "data": {
      "text/plain": [
       "2"
      ]
     },
     "execution_count": 25,
     "metadata": {},
     "output_type": "execute_result"
    }
   ],
   "source": [
    "max(1,2)"
   ]
  },
  {
   "cell_type": "code",
   "execution_count": 26,
   "metadata": {},
   "outputs": [
    {
     "data": {
      "text/plain": [
       "2"
      ]
     },
     "execution_count": 26,
     "metadata": {},
     "output_type": "execute_result"
    }
   ],
   "source": [
    "min(1+1, a)"
   ]
  },
  {
   "cell_type": "markdown",
   "metadata": {},
   "source": [
    "One super important function is \"print\"..."
   ]
  },
  {
   "cell_type": "code",
   "execution_count": null,
   "metadata": {},
   "outputs": [],
   "source": []
  }
 ],
 "metadata": {
  "kernelspec": {
   "display_name": "Python 3",
   "language": "python",
   "name": "python3"
  },
  "language_info": {
   "codemirror_mode": {
    "name": "ipython",
    "version": 3
   },
   "file_extension": ".py",
   "mimetype": "text/x-python",
   "name": "python",
   "nbconvert_exporter": "python",
   "pygments_lexer": "ipython3",
   "version": "3.6.5"
  }
 },
 "nbformat": 4,
 "nbformat_minor": 2
}
